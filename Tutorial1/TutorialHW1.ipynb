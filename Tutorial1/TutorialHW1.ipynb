{
  "cells": [
    {
      "cell_type": "markdown",
      "id": "e15da9a4",
      "metadata": {
        "id": "e15da9a4"
      },
      "source": [
        "# Tutorial Assignment 1: Atacama soil microbiome analysis\n",
        "\n",
        "For this homework, we will be working with soil samples from the Atacama Desert in northern Chile. The Atacama Desert is one of the most arid locations on Earth, with some areas receiving less than a millimeter of rain per decade. Despite this extreme aridity, there are microbes living in the soil. The soil microbiomes profiled in this study follow two east-west transects, Baquedano and Yungay, across which average soil relative humidity is positively correlated with elevation (higher elevations are less arid and thus have higher average soil relative humidity). Along these transects, pits were dug at each site and soil samples were collected from three depths in each pit.\n",
        "\n",
        "**Additional notes**:\n",
        "- Continue to use the QIIME2 kernel at bio-datahub. As in the tutorial, use git-clone to clone the tutorial 1 repo. Work in the  \"TutorialHW1.ipynb\" notebook.\n",
        "- Remember to select the \"Python [conda env:qiime2]\" kernel\n",
        "- Some questions below will require you to add your own cell blocks to this file and write a few commands.\n",
        "- For this homework, upload both a PDF of answers as well as your completed .ipynb. \n",
        "\n",
        "<br/>**This tutorial was adapted from the Atacama soil microbiome tutorial in the qiime2 documentation: https://docs.qiime2.org/2021.8/tutorials/atacama-soils/"
      ]
    },
    {
      "cell_type": "markdown",
      "id": "19478b6a",
      "metadata": {},
      "source": [
        "## 1) Load the dataset into QIIME"
      ]
    },
    {
      "cell_type": "markdown",
      "id": "ec77a7a9",
      "metadata": {},
      "source": [
        "**load the metadata**"
      ]
    },
    {
      "cell_type": "code",
      "execution_count": null,
      "id": "c5a79749",
      "metadata": {
        "id": "c5a79749"
      },
      "outputs": [],
      "source": [
        "from qiime2 import Metadata\n",
        "from urllib import request\n",
        "## download the metadata file from the online source\n",
        "url = 'https://data.qiime2.org/2021.8/tutorials/atacama-soils/sample_metadata.tsv'\n",
        "fn = 'sample-metadata.tsv'\n",
        "request.urlretrieve(url, fn)\n",
        "## load into qiime2\n",
        "sample_metadata_md = Metadata.load(fn)"
      ]
    },
    {
      "cell_type": "markdown",
      "id": "07c5cc26",
      "metadata": {},
      "source": [
        "**load the sequences**"
      ]
    },
    {
      "cell_type": "code",
      "execution_count": null,
      "id": "e91f96d1",
      "metadata": {},
      "outputs": [],
      "source": [
        "import os\n",
        "## again, use the requests library to download from the online source\n",
        "## three urls this time for forward and reverse reads and barcodes\n",
        "urls = ['https://data.qiime2.org/2021.8/tutorials/atacama-soils/10p/forward.fastq.gz',\n",
        "        'https://data.qiime2.org/2021.8/tutorials/atacama-soils/10p/reverse.fastq.gz',\n",
        "        'https://data.qiime2.org/2021.8/tutorials/atacama-soils/10p/barcodes.fastq.gz']\n",
        "fns = ['emp-paired-end-sequences/forward.fastq.gz',\n",
        "       'emp-paired-end-sequences/reverse.fastq.gz',\n",
        "       'emp-paired-end-sequences/barcodes.fastq.gz']\n",
        "os.makedirs('emp-paired-end-sequences', exist_ok=True)\n",
        "\n",
        "for url, fn in zip(urls, fns):\n",
        "    request.urlretrieve(url, fn)\n",
        "\n",
        "## load into an artifact\n",
        "from qiime2 import Artifact\n",
        "emp_paired_end_sequences = Artifact.import_data(\n",
        "    'EMPPairedEndSequences',\n",
        "    'emp-paired-end-sequences',\n",
        ")"
      ]
    },
    {
      "cell_type": "markdown",
      "id": "a2073d22",
      "metadata": {},
      "source": [
        "## 2) Demultiplex the sequences and processes reads into ASVs"
      ]
    },
    {
      "cell_type": "markdown",
      "id": "c3ba0c78",
      "metadata": {},
      "source": [
        "**demultiplex**\n",
        "\n",
        "Slightly different from the tutorial, since we have paired end data"
      ]
    },
    {
      "cell_type": "code",
      "execution_count": null,
      "id": "79950642",
      "metadata": {},
      "outputs": [],
      "source": [
        "import qiime2.plugins.demux.actions as demux_actions\n",
        "# pull out the barcode sequence from the metadata\n",
        "barcode_seqs = sample_metadata_md.get_column('barcode-sequence')\n",
        "## now feed it to qiime's demultiplexing function\n",
        "demux, demux_details = demux_actions.emp_paired(\n",
        "    seqs=emp_paired_end_sequences,\n",
        "    barcodes=barcode_seqs,\n",
        "    rev_comp_mapping_barcodes=True\n",
        ")\n",
        "## summarize the demultiplexing results\n",
        "demux_viz, = demux_actions.summarize(\n",
        "    data=demux,\n",
        ")\n",
        "## save for export to qiime2 view\n",
        "demux_viz.save('demux.qzv')"
      ]
    },
    {
      "cell_type": "markdown",
      "id": "fd32031b",
      "metadata": {},
      "source": [
        "**Use what you learned in the tutorial to select trimming parameters for DADA2**\n",
        "\n",
        "Remember that because the reads are paired end, we use separate forward and reverse trimming parameters.\n",
        "\n",
        "*Note: DADA2 can be a little slow. Go make a coffee. If this takes >>30 min, contact Mark*"
      ]
    },
    {
      "cell_type": "code",
      "execution_count": null,
      "id": "8061576d",
      "metadata": {},
      "outputs": [],
      "source": [
        "import qiime2.plugins.dada2.actions as dada2_actions\n",
        "# input: the demultiplexed sequences, trimming parameters\n",
        "# output: a feature table (samples x ASVs), ASV sequences, and denoising stats (stuff like ASVs/sample)\n",
        "table, rep_seqs, stats = dada2_actions.denoise_paired(\n",
        "    demultiplexed_seqs=demux,\n",
        "    trim_left_f= 13,\n",
        "    trim_left_r= 13,\n",
        "    trunc_len_f= 150,\n",
        "    trunc_len_r= 150,\n",
        ")"
      ]
    },
    {
      "cell_type": "markdown",
      "id": "89e23300",
      "metadata": {},
      "source": [
        "## 3) Build a tree and taxonomize "
      ]
    },
    {
      "cell_type": "markdown",
      "id": "53728a64",
      "metadata": {},
      "source": [
        "*Just placeholder cells from here down. You should be able to use your code from the tutorial*"
      ]
    },
    {
      "cell_type": "markdown",
      "id": "c3f776f6",
      "metadata": {},
      "source": [
        "**Step 1: tree building**"
      ]
    },
    {
      "cell_type": "markdown",
      "id": "2e80d2a1",
      "metadata": {
        "id": "2e80d2a1"
      },
      "source": [
        "**Step 2: taxonomizing**"
      ]
    },
    {
      "cell_type": "code",
      "execution_count": null,
      "id": "f5126165",
      "metadata": {},
      "outputs": [],
      "source": [
        "## Download the classifier\n",
        "url = 'https://moving-pictures-tutorial.readthedocs.io/en/latest/data/moving-pictures/gg-13-8-99-515-806-nb-classifier.qza'\n",
        "fn = 'gg-13-8-99-515-806-nb-classifier.qza'\n",
        "request.urlretrieve(url, fn)\n",
        "gg_13_8_99_515_806_nb_classifier = Artifact.load(fn)"
      ]
    },
    {
      "cell_type": "markdown",
      "id": "10456799",
      "metadata": {
        "id": "10456799"
      },
      "source": [
        "**Step 3: taxa barplot**"
      ]
    },
    {
      "cell_type": "markdown",
      "id": "80d7381c",
      "metadata": {
        "id": "80d7381c"
      },
      "source": [
        "## 4) Diversity analyses"
      ]
    },
    {
      "cell_type": "markdown",
      "id": "baa79c31",
      "metadata": {
        "id": "baa79c31"
      },
      "source": [
        "**Step 1: create an alpha rarefaction plot**"
      ]
    },
    {
      "cell_type": "markdown",
      "id": "bf95e7ce",
      "metadata": {
        "id": "bf95e7ce"
      },
      "source": [
        "**Step 2: calculate all diversity metrics on the downsampled dataset**"
      ]
    },
    {
      "cell_type": "markdown",
      "id": "1f1e7554",
      "metadata": {},
      "source": [
        "**Step 3: extract the metrics that we're interested in**"
      ]
    },
    {
      "cell_type": "markdown",
      "id": "3564e11d",
      "metadata": {},
      "source": [
        "**Step 4: test for associations with metadata**"
      ]
    },
    {
      "cell_type": "markdown",
      "id": "9d06e4ec",
      "metadata": {},
      "source": [
        "## 5) Differential abundance testing"
      ]
    },
    {
      "cell_type": "markdown",
      "id": "f8d8c1df",
      "metadata": {},
      "source": [
        "**Step 1: create genus and class-level tables**"
      ]
    },
    {
      "cell_type": "markdown",
      "id": "d0d39bc5",
      "metadata": {},
      "source": [
        "**Step 2: run ANCOM**"
      ]
    }
  ],
  "metadata": {
    "colab": {
      "provenance": []
    },
    "kernelspec": {
      "display_name": "qiime2-amplicon-2024.10",
      "language": "python",
      "name": "python3"
    },
    "language_info": {
      "codemirror_mode": {
        "name": "ipython",
        "version": 3
      },
      "file_extension": ".py",
      "mimetype": "text/x-python",
      "name": "python",
      "nbconvert_exporter": "python",
      "pygments_lexer": "ipython3",
      "version": "3.10.14"
    }
  },
  "nbformat": 4,
  "nbformat_minor": 5
}
